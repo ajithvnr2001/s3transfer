{
  "nbformat": 4,
  "nbformat_minor": 0,
  "metadata": {
    "colab": {
      "provenance": []
    },
    "kernelspec": {
      "name": "python3",
      "display_name": "Python 3"
    },
    "language_info": {
      "name": "python"
    }
  },
  "cells": [
    {
      "cell_type": "code",
      "source": [
        "import os\n",
        "\n",
        "dir_names = ['content2','content3','content4']\n",
        "dir_path = '/content/'\n",
        "\n",
        "for name in dir_names:\n",
        "    path = os.path.join(dir_path, name)\n",
        "    if os.path.exists(path):\n",
        "        os.rmdir(path)\n",
        "    os.mkdir(path)"
      ],
      "metadata": {
        "id": "GDv8JJ8zacVL"
      },
      "execution_count": null,
      "outputs": []
    },
    {
      "cell_type": "code",
      "execution_count": null,
      "metadata": {
        "id": "rhZ62vcFaL2a"
      },
      "outputs": [],
      "source": [
        "!pip install boto3"
      ]
    },
    {
      "cell_type": "code",
      "source": [
        "#Upload by folder\n",
        "import os\n",
        "import time\n",
        "from datetime import datetime, timedelta\n",
        "import boto3\n",
        "import threading\n",
        "\n",
        "# Let's use S3\n",
        "s3 = boto3.client(\n",
        "    service_name='s3',\n",
        "    aws_access_key_id='accessid',\n",
        "    aws_secret_access_key='acesskey',\n",
        "    endpoint_url='https://s3.tebi.io'\n",
        ")\n",
        "\n",
        "# Set the folder path\n",
        "folder_path = '/content/content3'\n",
        "\n",
        "bytes_transferred = 0\n",
        "\n",
        "def show_progress():\n",
        "    global start_time, bytes_transferred, total_bytes\n",
        "    elapsed_time = max(time.time() - start_time, 0.001)\n",
        "    speed = (bytes_transferred / (1024 ** 2)) / elapsed_time\n",
        "    remaining_bytes = total_bytes - bytes_transferred\n",
        "\n",
        "    if bytes_transferred == 0:\n",
        "        estimated_remaining_time = \"Unknown\"\n",
        "    else:\n",
        "        estimated_remaining_time = timedelta(seconds=remaining_bytes / (bytes_transferred / elapsed_time))\n",
        "\n",
        "    print(f'\\rUploaded: {bytes_transferred / (1024 ** 3):.2f}/{total_bytes / (1024 ** 3):.2f} GB, '\n",
        "          f'Speed: {speed:.2f} MB/s, '\n",
        "          f'Estimated remaining time: {estimated_remaining_time}', end='')\n",
        "\n",
        "    # Schedule the next progress update\n",
        "    threading.Timer(1, show_progress).start()\n",
        "\n",
        "# Custom progress callback function to display upload progress\n",
        "def progress_callback(new_bytes_transferred):\n",
        "    global bytes_transferred\n",
        "    bytes_transferred += new_bytes_transferred\n",
        "\n",
        "# Loop through all items in the folder\n",
        "for item_name in os.listdir(folder_path):\n",
        "    item_path = os.path.join(folder_path, item_name)\n",
        "\n",
        "    # Check if the item is a file\n",
        "    if os.path.isfile(item_path):\n",
        "        print(f\"Uploading {item_name}\")\n",
        "\n",
        "        # Upload each file to S3\n",
        "        with open(item_path, 'rb') as data:\n",
        "            file_size = os.path.getsize(item_path)\n",
        "            total_bytes = file_size\n",
        "            start_time = time.time()  # Store the start time of the upload for calculating speed\n",
        "            show_progress()  # Start showing progress updates\n",
        "            s3.upload_fileobj(data, 'bucketname', item_name, Callback=progress_callback)\n",
        "            print(f'\\nUploaded {item_name}')\n",
        "    else:\n",
        "        print(f\"Skipping {item_name} (not a file)\")\n",
        "\n",
        "print('All files uploaded successfully!')"
      ],
      "metadata": {
        "id": "Y42m6MQVaM5x"
      },
      "execution_count": null,
      "outputs": []
    }
  ]
}